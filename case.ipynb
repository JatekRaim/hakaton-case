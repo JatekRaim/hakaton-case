{
  "cells": [
    {
      "cell_type": "markdown",
      "metadata": {
        "id": "view-in-github",
        "colab_type": "text"
      },
      "source": [
        "<a href=\"https://colab.research.google.com/github/JatekRaim/hakaton-case/blob/main/case.ipynb\" target=\"_parent\"><img src=\"https://colab.research.google.com/assets/colab-badge.svg\" alt=\"Open In Colab\"/></a>"
      ]
    },
    {
      "cell_type": "code",
      "execution_count": 37,
      "metadata": {
        "id": "WHrlqSV6JIXP"
      },
      "outputs": [],
      "source": [
        "from pydrive.auth import GoogleAuth\n",
        "from pydrive.drive import GoogleDrive\n",
        "from google.colab import auth\n",
        "from oauth2client.client import GoogleCredentials\n",
        "\n",
        "import pandas as pd\n",
        "\n",
        "from pprint import pprint\n"
      ]
    },
    {
      "cell_type": "code",
      "execution_count": 38,
      "metadata": {
        "id": "cdkZb9czJVHL"
      },
      "outputs": [],
      "source": [
        "auth.authenticate_user()\n",
        "gauth = GoogleAuth()\n",
        "gauth.credentials = GoogleCredentials.get_application_default()\n",
        "drive = GoogleDrive(gauth)"
      ]
    },
    {
      "cell_type": "code",
      "execution_count": 39,
      "metadata": {
        "colab": {
          "base_uri": "https://localhost:8080/",
          "height": 424
        },
        "id": "gXir9OcxJVJo",
        "outputId": "2e13aaec-5747-4248-87aa-2a19782cf682"
      },
      "outputs": [
        {
          "output_type": "execute_result",
          "data": {
            "text/plain": [
              "                                             QUESTION  \\\n",
              "0            Какие основания для получения 33 услуги?   \n",
              "1   Какие основания для получения предоставления д...   \n",
              "2   Какие основания для получения единовременной к...   \n",
              "3                  Какие основания для детской карты?   \n",
              "4   Какие условия являются обязательными для получ...   \n",
              "..                                                ...   \n",
              "95  Как подтвердить оплату ЖКХ при оформлении услу...   \n",
              "96  Как подтвердить оплату ЖКХ при оформлении услу...   \n",
              "97  Как подтвердить оплату ЖКХ при оформлении услу...   \n",
              "98  Как подтвердить оплату ЖКХ при оформлении 583 ...   \n",
              "99  За какой период предоставлять подтверждение оп...   \n",
              "\n",
              "                                               ANSWER  \n",
              "0   Заявителем является родитель (усыновитель) реб...  \n",
              "1   Заявителем является родитель (усыновитель) реб...  \n",
              "2   Заявителем является родитель (усыновитель) реб...  \n",
              "3   Заявителем является родитель (усыновитель) реб...  \n",
              "4   ребенок - гражданин РФ, имеющий место жительст...  \n",
              "..                                                ...  \n",
              "95  Документы, подтверждающие начисление платы за ...  \n",
              "96  Документы, подтверждающие начисление платы за ...  \n",
              "97  Документы, подтверждающие начисление платы за ...  \n",
              "98  Документы, подтверждающие начисление платы за ...  \n",
              "99         За месяц, предшествующий месяцу обращения.  \n",
              "\n",
              "[100 rows x 2 columns]"
            ],
            "text/html": [
              "\n",
              "  <div id=\"df-43b994e0-3041-44b6-a0d8-23b3780f9b6e\" class=\"colab-df-container\">\n",
              "    <div>\n",
              "<style scoped>\n",
              "    .dataframe tbody tr th:only-of-type {\n",
              "        vertical-align: middle;\n",
              "    }\n",
              "\n",
              "    .dataframe tbody tr th {\n",
              "        vertical-align: top;\n",
              "    }\n",
              "\n",
              "    .dataframe thead th {\n",
              "        text-align: right;\n",
              "    }\n",
              "</style>\n",
              "<table border=\"1\" class=\"dataframe\">\n",
              "  <thead>\n",
              "    <tr style=\"text-align: right;\">\n",
              "      <th></th>\n",
              "      <th>QUESTION</th>\n",
              "      <th>ANSWER</th>\n",
              "    </tr>\n",
              "  </thead>\n",
              "  <tbody>\n",
              "    <tr>\n",
              "      <th>0</th>\n",
              "      <td>Какие основания для получения 33 услуги?</td>\n",
              "      <td>Заявителем является родитель (усыновитель) реб...</td>\n",
              "    </tr>\n",
              "    <tr>\n",
              "      <th>1</th>\n",
              "      <td>Какие основания для получения предоставления д...</td>\n",
              "      <td>Заявителем является родитель (усыновитель) реб...</td>\n",
              "    </tr>\n",
              "    <tr>\n",
              "      <th>2</th>\n",
              "      <td>Какие основания для получения единовременной к...</td>\n",
              "      <td>Заявителем является родитель (усыновитель) реб...</td>\n",
              "    </tr>\n",
              "    <tr>\n",
              "      <th>3</th>\n",
              "      <td>Какие основания для детской карты?</td>\n",
              "      <td>Заявителем является родитель (усыновитель) реб...</td>\n",
              "    </tr>\n",
              "    <tr>\n",
              "      <th>4</th>\n",
              "      <td>Какие условия являются обязательными для получ...</td>\n",
              "      <td>ребенок - гражданин РФ, имеющий место жительст...</td>\n",
              "    </tr>\n",
              "    <tr>\n",
              "      <th>...</th>\n",
              "      <td>...</td>\n",
              "      <td>...</td>\n",
              "    </tr>\n",
              "    <tr>\n",
              "      <th>95</th>\n",
              "      <td>Как подтвердить оплату ЖКХ при оформлении услу...</td>\n",
              "      <td>Документы, подтверждающие начисление платы за ...</td>\n",
              "    </tr>\n",
              "    <tr>\n",
              "      <th>96</th>\n",
              "      <td>Как подтвердить оплату ЖКХ при оформлении услу...</td>\n",
              "      <td>Документы, подтверждающие начисление платы за ...</td>\n",
              "    </tr>\n",
              "    <tr>\n",
              "      <th>97</th>\n",
              "      <td>Как подтвердить оплату ЖКХ при оформлении услу...</td>\n",
              "      <td>Документы, подтверждающие начисление платы за ...</td>\n",
              "    </tr>\n",
              "    <tr>\n",
              "      <th>98</th>\n",
              "      <td>Как подтвердить оплату ЖКХ при оформлении 583 ...</td>\n",
              "      <td>Документы, подтверждающие начисление платы за ...</td>\n",
              "    </tr>\n",
              "    <tr>\n",
              "      <th>99</th>\n",
              "      <td>За какой период предоставлять подтверждение оп...</td>\n",
              "      <td>За месяц, предшествующий месяцу обращения.</td>\n",
              "    </tr>\n",
              "  </tbody>\n",
              "</table>\n",
              "<p>100 rows × 2 columns</p>\n",
              "</div>\n",
              "    <div class=\"colab-df-buttons\">\n",
              "\n",
              "  <div class=\"colab-df-container\">\n",
              "    <button class=\"colab-df-convert\" onclick=\"convertToInteractive('df-43b994e0-3041-44b6-a0d8-23b3780f9b6e')\"\n",
              "            title=\"Convert this dataframe to an interactive table.\"\n",
              "            style=\"display:none;\">\n",
              "\n",
              "  <svg xmlns=\"http://www.w3.org/2000/svg\" height=\"24px\" viewBox=\"0 -960 960 960\">\n",
              "    <path d=\"M120-120v-720h720v720H120Zm60-500h600v-160H180v160Zm220 220h160v-160H400v160Zm0 220h160v-160H400v160ZM180-400h160v-160H180v160Zm440 0h160v-160H620v160ZM180-180h160v-160H180v160Zm440 0h160v-160H620v160Z\"/>\n",
              "  </svg>\n",
              "    </button>\n",
              "\n",
              "  <style>\n",
              "    .colab-df-container {\n",
              "      display:flex;\n",
              "      gap: 12px;\n",
              "    }\n",
              "\n",
              "    .colab-df-convert {\n",
              "      background-color: #E8F0FE;\n",
              "      border: none;\n",
              "      border-radius: 50%;\n",
              "      cursor: pointer;\n",
              "      display: none;\n",
              "      fill: #1967D2;\n",
              "      height: 32px;\n",
              "      padding: 0 0 0 0;\n",
              "      width: 32px;\n",
              "    }\n",
              "\n",
              "    .colab-df-convert:hover {\n",
              "      background-color: #E2EBFA;\n",
              "      box-shadow: 0px 1px 2px rgba(60, 64, 67, 0.3), 0px 1px 3px 1px rgba(60, 64, 67, 0.15);\n",
              "      fill: #174EA6;\n",
              "    }\n",
              "\n",
              "    .colab-df-buttons div {\n",
              "      margin-bottom: 4px;\n",
              "    }\n",
              "\n",
              "    [theme=dark] .colab-df-convert {\n",
              "      background-color: #3B4455;\n",
              "      fill: #D2E3FC;\n",
              "    }\n",
              "\n",
              "    [theme=dark] .colab-df-convert:hover {\n",
              "      background-color: #434B5C;\n",
              "      box-shadow: 0px 1px 3px 1px rgba(0, 0, 0, 0.15);\n",
              "      filter: drop-shadow(0px 1px 2px rgba(0, 0, 0, 0.3));\n",
              "      fill: #FFFFFF;\n",
              "    }\n",
              "  </style>\n",
              "\n",
              "    <script>\n",
              "      const buttonEl =\n",
              "        document.querySelector('#df-43b994e0-3041-44b6-a0d8-23b3780f9b6e button.colab-df-convert');\n",
              "      buttonEl.style.display =\n",
              "        google.colab.kernel.accessAllowed ? 'block' : 'none';\n",
              "\n",
              "      async function convertToInteractive(key) {\n",
              "        const element = document.querySelector('#df-43b994e0-3041-44b6-a0d8-23b3780f9b6e');\n",
              "        const dataTable =\n",
              "          await google.colab.kernel.invokeFunction('convertToInteractive',\n",
              "                                                    [key], {});\n",
              "        if (!dataTable) return;\n",
              "\n",
              "        const docLinkHtml = 'Like what you see? Visit the ' +\n",
              "          '<a target=\"_blank\" href=https://colab.research.google.com/notebooks/data_table.ipynb>data table notebook</a>'\n",
              "          + ' to learn more about interactive tables.';\n",
              "        element.innerHTML = '';\n",
              "        dataTable['output_type'] = 'display_data';\n",
              "        await google.colab.output.renderOutput(dataTable, element);\n",
              "        const docLink = document.createElement('div');\n",
              "        docLink.innerHTML = docLinkHtml;\n",
              "        element.appendChild(docLink);\n",
              "      }\n",
              "    </script>\n",
              "  </div>\n",
              "\n",
              "\n",
              "<div id=\"df-c565d90f-41a7-4eed-8971-9cc96744238c\">\n",
              "  <button class=\"colab-df-quickchart\" onclick=\"quickchart('df-c565d90f-41a7-4eed-8971-9cc96744238c')\"\n",
              "            title=\"Suggest charts.\"\n",
              "            style=\"display:none;\">\n",
              "\n",
              "<svg xmlns=\"http://www.w3.org/2000/svg\" height=\"24px\"viewBox=\"0 0 24 24\"\n",
              "     width=\"24px\">\n",
              "    <g>\n",
              "        <path d=\"M19 3H5c-1.1 0-2 .9-2 2v14c0 1.1.9 2 2 2h14c1.1 0 2-.9 2-2V5c0-1.1-.9-2-2-2zM9 17H7v-7h2v7zm4 0h-2V7h2v10zm4 0h-2v-4h2v4z\"/>\n",
              "    </g>\n",
              "</svg>\n",
              "  </button>\n",
              "\n",
              "<style>\n",
              "  .colab-df-quickchart {\n",
              "    background-color: #E8F0FE;\n",
              "    border: none;\n",
              "    border-radius: 50%;\n",
              "    cursor: pointer;\n",
              "    display: none;\n",
              "    fill: #1967D2;\n",
              "    height: 32px;\n",
              "    padding: 0 0 0 0;\n",
              "    width: 32px;\n",
              "  }\n",
              "\n",
              "  .colab-df-quickchart:hover {\n",
              "    background-color: #E2EBFA;\n",
              "    box-shadow: 0px 1px 2px rgba(60, 64, 67, 0.3), 0px 1px 3px 1px rgba(60, 64, 67, 0.15);\n",
              "    fill: #174EA6;\n",
              "  }\n",
              "\n",
              "  [theme=dark] .colab-df-quickchart {\n",
              "    background-color: #3B4455;\n",
              "    fill: #D2E3FC;\n",
              "  }\n",
              "\n",
              "  [theme=dark] .colab-df-quickchart:hover {\n",
              "    background-color: #434B5C;\n",
              "    box-shadow: 0px 1px 3px 1px rgba(0, 0, 0, 0.15);\n",
              "    filter: drop-shadow(0px 1px 2px rgba(0, 0, 0, 0.3));\n",
              "    fill: #FFFFFF;\n",
              "  }\n",
              "</style>\n",
              "\n",
              "  <script>\n",
              "    async function quickchart(key) {\n",
              "      const charts = await google.colab.kernel.invokeFunction(\n",
              "          'suggestCharts', [key], {});\n",
              "    }\n",
              "    (() => {\n",
              "      let quickchartButtonEl =\n",
              "        document.querySelector('#df-c565d90f-41a7-4eed-8971-9cc96744238c button');\n",
              "      quickchartButtonEl.style.display =\n",
              "        google.colab.kernel.accessAllowed ? 'block' : 'none';\n",
              "    })();\n",
              "  </script>\n",
              "</div>\n",
              "    </div>\n",
              "  </div>\n"
            ]
          },
          "metadata": {},
          "execution_count": 39
        }
      ],
      "source": [
        "dat_train = drive.CreateFile({'id':\"1Oar4L1wMZ9_2KSfJGEs7HT83mfA_1k-u\"})\n",
        "dat_train.GetContentFile('train_dataset_Датасет.xlsx')\n",
        "dat_train = pd.read_excel('train_dataset_Датасет.xlsx')\n",
        "dat_train[:100]"
      ]
    },
    {
      "cell_type": "code",
      "execution_count": 40,
      "metadata": {
        "colab": {
          "base_uri": "https://localhost:8080/"
        },
        "id": "fJTS1IOJJVLs",
        "outputId": "67866408-a83f-4f67-9bf6-2d27ad82cf49"
      },
      "outputs": [
        {
          "output_type": "stream",
          "name": "stdout",
          "text": [
            "<class 'pandas.core.frame.DataFrame'>\n",
            "RangeIndex: 2729 entries, 0 to 2728\n",
            "Data columns (total 2 columns):\n",
            " #   Column    Non-Null Count  Dtype \n",
            "---  ------    --------------  ----- \n",
            " 0   QUESTION  2729 non-null   object\n",
            " 1   ANSWER    2729 non-null   object\n",
            "dtypes: object(2)\n",
            "memory usage: 42.8+ KB\n"
          ]
        }
      ],
      "source": [
        "data = dat_train.dropna()\n",
        "data = data.reset_index()\n",
        "del(data['index'])\n",
        "data_quest = data[['QUESTION']]\n",
        "data_answ = data[['ANSWER']]\n",
        "data_quest = data_quest.to_numpy()\n",
        "data_answ = data_answ.to_numpy()\n",
        "data.info()"
      ]
    },
    {
      "cell_type": "code",
      "execution_count": 41,
      "metadata": {
        "id": "Cw1dbAi0JVNj"
      },
      "outputs": [],
      "source": [
        "n=0\n",
        "examp_resp = {}\n",
        "i = 0\n",
        "\n",
        "while i < len(data_answ) - 1:\n",
        "  if data_answ[i] == data_answ[i+1]:\n",
        "    if str(n) not in examp_resp:\n",
        "      examp_resp[str(n)] = {}\n",
        "      examp_resp[str(n)]['examples'] = []\n",
        "      examp_resp[str(n)]['responses'] = []\n",
        "    examp_resp[str(n)]['examples'].append(str(data_quest[i]))\n",
        "    examp_resp[str(n)]['responses'].append(str(data_answ[i]))\n",
        "  else:\n",
        "    if str(n) not in examp_resp:\n",
        "      examp_resp[str(n)] = {}\n",
        "      examp_resp[str(n)]['examples'] = []\n",
        "      examp_resp[str(n)]['responses'] = []\n",
        "    examp_resp[str(n)]['examples'].append(str(data_quest[i]))\n",
        "    examp_resp[str(n)]['responses'].append(str(data_answ[i]))\n",
        "    n+=1\n",
        "  i+=1\n",
        "\n",
        "i = 0\n",
        "while i < len(examp_resp):\n",
        "  examp_resp[str(i)]['responses'] = examp_resp[str(i)]['responses'][0]\n",
        "  i+=1"
      ]
    },
    {
      "cell_type": "code",
      "execution_count": 42,
      "metadata": {
        "id": "xhFWwGz-JVP2"
      },
      "outputs": [],
      "source": [
        "dataset = []\n",
        "\n",
        "for intent, intent_data in examp_resp.items():\n",
        "    for example in intent_data['examples']:\n",
        "      if len(dataset) >= 1000:\n",
        "        break\n",
        "      else:\n",
        "        dataset.append([example, intent])\n",
        "\n",
        "corpus = [text for text, intent in dataset]\n",
        "y = [intent for text, intent in dataset]"
      ]
    },
    {
      "cell_type": "code",
      "execution_count": 43,
      "metadata": {
        "id": "lI83N0iBJVRu"
      },
      "outputs": [],
      "source": [
        "from sklearn.feature_extraction.text import TfidfVectorizer\n",
        "vectorizer = TfidfVectorizer(analyzer='word', ngram_range=(2, 8))\n",
        "X = vectorizer.fit_transform(corpus)"
      ]
    },
    {
      "cell_type": "code",
      "execution_count": 44,
      "metadata": {
        "colab": {
          "base_uri": "https://localhost:8080/",
          "height": 75
        },
        "id": "MUQ1SCDrJVUX",
        "outputId": "615cc090-fb9b-48ae-b4ea-532de379de1f"
      },
      "outputs": [
        {
          "output_type": "execute_result",
          "data": {
            "text/plain": [
              "LogisticRegression()"
            ],
            "text/html": [
              "<style>#sk-container-id-4 {color: black;background-color: white;}#sk-container-id-4 pre{padding: 0;}#sk-container-id-4 div.sk-toggleable {background-color: white;}#sk-container-id-4 label.sk-toggleable__label {cursor: pointer;display: block;width: 100%;margin-bottom: 0;padding: 0.3em;box-sizing: border-box;text-align: center;}#sk-container-id-4 label.sk-toggleable__label-arrow:before {content: \"▸\";float: left;margin-right: 0.25em;color: #696969;}#sk-container-id-4 label.sk-toggleable__label-arrow:hover:before {color: black;}#sk-container-id-4 div.sk-estimator:hover label.sk-toggleable__label-arrow:before {color: black;}#sk-container-id-4 div.sk-toggleable__content {max-height: 0;max-width: 0;overflow: hidden;text-align: left;background-color: #f0f8ff;}#sk-container-id-4 div.sk-toggleable__content pre {margin: 0.2em;color: black;border-radius: 0.25em;background-color: #f0f8ff;}#sk-container-id-4 input.sk-toggleable__control:checked~div.sk-toggleable__content {max-height: 200px;max-width: 100%;overflow: auto;}#sk-container-id-4 input.sk-toggleable__control:checked~label.sk-toggleable__label-arrow:before {content: \"▾\";}#sk-container-id-4 div.sk-estimator input.sk-toggleable__control:checked~label.sk-toggleable__label {background-color: #d4ebff;}#sk-container-id-4 div.sk-label input.sk-toggleable__control:checked~label.sk-toggleable__label {background-color: #d4ebff;}#sk-container-id-4 input.sk-hidden--visually {border: 0;clip: rect(1px 1px 1px 1px);clip: rect(1px, 1px, 1px, 1px);height: 1px;margin: -1px;overflow: hidden;padding: 0;position: absolute;width: 1px;}#sk-container-id-4 div.sk-estimator {font-family: monospace;background-color: #f0f8ff;border: 1px dotted black;border-radius: 0.25em;box-sizing: border-box;margin-bottom: 0.5em;}#sk-container-id-4 div.sk-estimator:hover {background-color: #d4ebff;}#sk-container-id-4 div.sk-parallel-item::after {content: \"\";width: 100%;border-bottom: 1px solid gray;flex-grow: 1;}#sk-container-id-4 div.sk-label:hover label.sk-toggleable__label {background-color: #d4ebff;}#sk-container-id-4 div.sk-serial::before {content: \"\";position: absolute;border-left: 1px solid gray;box-sizing: border-box;top: 0;bottom: 0;left: 50%;z-index: 0;}#sk-container-id-4 div.sk-serial {display: flex;flex-direction: column;align-items: center;background-color: white;padding-right: 0.2em;padding-left: 0.2em;position: relative;}#sk-container-id-4 div.sk-item {position: relative;z-index: 1;}#sk-container-id-4 div.sk-parallel {display: flex;align-items: stretch;justify-content: center;background-color: white;position: relative;}#sk-container-id-4 div.sk-item::before, #sk-container-id-4 div.sk-parallel-item::before {content: \"\";position: absolute;border-left: 1px solid gray;box-sizing: border-box;top: 0;bottom: 0;left: 50%;z-index: -1;}#sk-container-id-4 div.sk-parallel-item {display: flex;flex-direction: column;z-index: 1;position: relative;background-color: white;}#sk-container-id-4 div.sk-parallel-item:first-child::after {align-self: flex-end;width: 50%;}#sk-container-id-4 div.sk-parallel-item:last-child::after {align-self: flex-start;width: 50%;}#sk-container-id-4 div.sk-parallel-item:only-child::after {width: 0;}#sk-container-id-4 div.sk-dashed-wrapped {border: 1px dashed gray;margin: 0 0.4em 0.5em 0.4em;box-sizing: border-box;padding-bottom: 0.4em;background-color: white;}#sk-container-id-4 div.sk-label label {font-family: monospace;font-weight: bold;display: inline-block;line-height: 1.2em;}#sk-container-id-4 div.sk-label-container {text-align: center;}#sk-container-id-4 div.sk-container {/* jupyter's `normalize.less` sets `[hidden] { display: none; }` but bootstrap.min.css set `[hidden] { display: none !important; }` so we also need the `!important` here to be able to override the default hidden behavior on the sphinx rendered scikit-learn.org. See: https://github.com/scikit-learn/scikit-learn/issues/21755 */display: inline-block !important;position: relative;}#sk-container-id-4 div.sk-text-repr-fallback {display: none;}</style><div id=\"sk-container-id-4\" class=\"sk-top-container\"><div class=\"sk-text-repr-fallback\"><pre>LogisticRegression()</pre><b>In a Jupyter environment, please rerun this cell to show the HTML representation or trust the notebook. <br />On GitHub, the HTML representation is unable to render, please try loading this page with nbviewer.org.</b></div><div class=\"sk-container\" hidden><div class=\"sk-item\"><div class=\"sk-estimator sk-toggleable\"><input class=\"sk-toggleable__control sk-hidden--visually\" id=\"sk-estimator-id-4\" type=\"checkbox\" checked><label for=\"sk-estimator-id-4\" class=\"sk-toggleable__label sk-toggleable__label-arrow\">LogisticRegression</label><div class=\"sk-toggleable__content\"><pre>LogisticRegression()</pre></div></div></div></div></div>"
            ]
          },
          "metadata": {},
          "execution_count": 44
        }
      ],
      "source": [
        "from sklearn.linear_model import LogisticRegression\n",
        "clf = LogisticRegression()\n",
        "clf.fit(X, y)"
      ]
    },
    {
      "cell_type": "code",
      "execution_count": 45,
      "metadata": {
        "id": "dADEXf1V1gfW"
      },
      "outputs": [],
      "source": [
        "def get_intent(text):\n",
        "    proba_list = clf.predict_proba(vectorizer.transform([text]))[0]\n",
        "    max_proba = max(proba_list)\n",
        "    if max_proba > 0.005:\n",
        "      index = list(proba_list).index(max_proba)\n",
        "      return clf.classes_[index]"
      ]
    },
    {
      "cell_type": "code",
      "execution_count": 46,
      "metadata": {
        "id": "XdRU_kRn1hxV"
      },
      "outputs": [],
      "source": [
        "def get_response_by_intent(intent):\n",
        "    # phrases = examp_resp['intents'][intent]['responses']\n",
        "    return examp_resp[intent]['responses']"
      ]
    },
    {
      "cell_type": "code",
      "execution_count": 47,
      "metadata": {
        "id": "D63Dl-DF1h29"
      },
      "outputs": [],
      "source": [
        "import nltk"
      ]
    },
    {
      "cell_type": "code",
      "execution_count": 48,
      "metadata": {
        "id": "2D8loLj51mLU"
      },
      "outputs": [],
      "source": [
        "content = dataset\n",
        "blocks = content\n",
        "\n",
        "def clear_text(text):\n",
        "    text = text.lower()\n",
        "    alphabet = 'абвгдеёжзийклмнопрстуфхцчшщъыьэюя0123456789-I() '\n",
        "    result = ''\n",
        "    for c in text:\n",
        "        if c in alphabet:\n",
        "            result += c\n",
        "    return result\n",
        "\n",
        "dataset = []\n",
        "questions = set()\n",
        "\n",
        "for block in blocks:\n",
        "    replicas = block\n",
        "    if len(replicas) == 2:\n",
        "        question = clear_text(replicas[0][2:])\n",
        "        answer = replicas[1][2:]\n",
        "\n",
        "        if question and answer and question not in questions:\n",
        "            questions.add(question)\n",
        "            dataset.append([question, answer])"
      ]
    },
    {
      "cell_type": "code",
      "execution_count": 49,
      "metadata": {
        "id": "PP_tP4SI1mQL"
      },
      "outputs": [],
      "source": [
        "search_dataset = {}\n",
        "for question, answer in dataset:\n",
        "    words = question.split(' ')\n",
        "    for word in words:\n",
        "        if word not in search_dataset:\n",
        "            search_dataset[word] = []\n",
        "        search_dataset[word].append((question, answer))\n",
        "\n",
        "search_dataset = {\n",
        "    word: word_dataset\n",
        "    for word, word_dataset in search_dataset.items()\n",
        "    if len(word_dataset) < 1000\n",
        "}"
      ]
    },
    {
      "cell_type": "code",
      "execution_count": 50,
      "metadata": {
        "id": "cnP8LTNB1mUU"
      },
      "outputs": [],
      "source": [
        "def get_response_generatively(text):\n",
        "    words = text.split(' ')\n",
        "\n",
        "    words_dataset = set()\n",
        "    for word in words:\n",
        "        if word in search_dataset:\n",
        "            words_dataset |= set(search_dataset[word])\n",
        "\n",
        "    scores = []\n",
        "\n",
        "    for question, answer in words_dataset:\n",
        "        if abs(len(text) - len(question)) / len(question) < 0.4:\n",
        "            distance = nltk.edit_distance(text, question)\n",
        "            score = distance / len(question)\n",
        "            if score < 0.4:\n",
        "                scores.append([score, question, answer])\n",
        "\n",
        "    if scores:\n",
        "        return min(scores, key=lambda s: s[0])[2]"
      ]
    },
    {
      "cell_type": "code",
      "execution_count": 51,
      "metadata": {
        "id": "C6aZVoqB1sEc"
      },
      "outputs": [],
      "source": [
        "stats = {'intent': 0, 'generative': 0, 'fails': 0}"
      ]
    },
    {
      "cell_type": "code",
      "execution_count": 52,
      "metadata": {
        "id": "eCC1f8ll1sI7"
      },
      "outputs": [],
      "source": [
        "def bot(request):\n",
        "    # NLU\n",
        "    intent = get_intent(request)\n",
        "\n",
        "    # Генерация ответа\n",
        "    if intent:\n",
        "        stats['intent'] += 1\n",
        "        return get_response_by_intent(intent)\n",
        "\n",
        "    response = get_response_generatively(request)\n",
        "    if response:\n",
        "        stats['generative'] += 1\n",
        "        return response\n",
        "\n",
        "    stats['fails'] += 1\n",
        "    return 'некорректный запрос'"
      ]
    },
    {
      "cell_type": "code",
      "execution_count": 53,
      "metadata": {
        "colab": {
          "base_uri": "https://localhost:8080/",
          "height": 70
        },
        "id": "yHSOuiUD193J",
        "outputId": "271650ab-c1bf-4911-cb61-a7e349228463"
      },
      "outputs": [
        {
          "output_type": "execute_result",
          "data": {
            "text/plain": [
              "\"['ребенок - гражданин РФ, имеющий место жительства (постоянную регистрацию) в СПб\\\\nИ\\\\nодин из родителей (усыновителей) или оба родителя (усыновителя) - граждане РФ, имеющие место жительства (постоянную регистрацию) в СПб;\\\\n\\\\nМать - встала на медицинский учет по поводу беременности в учреждении здравоохранения в срок до 20 недель (включительно)\\\\nИЛИ\\\\nребенка усыновили в возрасте до шести месяцев;\\\\n\\\\nОбращение последовало не позднее полутора лет со дня рождения ребенка.']\""
            ],
            "application/vnd.google.colaboratory.intrinsic+json": {
              "type": "string"
            }
          },
          "metadata": {},
          "execution_count": 53
        }
      ],
      "source": [
        "bot('как оформить карту?')"
      ]
    }
  ],
  "metadata": {
    "colab": {
      "provenance": [],
      "include_colab_link": true
    },
    "kernelspec": {
      "display_name": "Python 3",
      "name": "python3"
    },
    "language_info": {
      "name": "python"
    }
  },
  "nbformat": 4,
  "nbformat_minor": 0
}